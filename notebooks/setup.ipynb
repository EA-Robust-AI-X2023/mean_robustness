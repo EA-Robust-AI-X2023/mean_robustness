{
 "cells": [
  {
   "cell_type": "markdown",
   "id": "816dde0d",
   "metadata": {},
   "source": [
    "## Setup"
   ]
  },
  {
   "cell_type": "markdown",
   "id": "e93c3920",
   "metadata": {},
   "source": [
    "This notebook performs some common setup to get started quickly.\n",
    "\n",
    "In order to run the whole setup, simply include this cell in your notebook:\n",
    "\n",
    "```python\n",
    "%run setup.ipynb\n",
    "```"
   ]
  },
  {
   "cell_type": "markdown",
   "id": "76a86ae7",
   "metadata": {},
   "source": [
    "### Modules"
   ]
  },
  {
   "cell_type": "markdown",
   "id": "015a1320",
   "metadata": {},
   "source": [
    "Use the `autoreload` extension to refresh the imported modules when their source code changes. This is useful for local development."
   ]
  },
  {
   "cell_type": "code",
   "execution_count": 1,
   "id": "6da375f5",
   "metadata": {},
   "outputs": [],
   "source": [
    "%load_ext autoreload\n",
    "%autoreload 2"
   ]
  },
  {
   "cell_type": "markdown",
   "id": "7e2a8d64",
   "metadata": {},
   "source": [
    "Add the root-level directory to `PYTHONPATH` so `mero` can be imported from the Jupyter notebook:"
   ]
  },
  {
   "cell_type": "code",
   "execution_count": 2,
   "id": "c962a1d1",
   "metadata": {},
   "outputs": [],
   "source": [
    "from pathlib import Path\n",
    "import sys\n",
    "\n",
    "ROOT_DIR = Path(\"../\").absolute()\n",
    "sys.path.insert(0, ROOT_DIR.as_posix())"
   ]
  },
  {
   "cell_type": "code",
   "execution_count": 3,
   "id": "157fddfc",
   "metadata": {},
   "outputs": [],
   "source": [
    "# Our code can be imported seamlessly thanks to the line of code above!\n",
    "import mero"
   ]
  },
  {
   "cell_type": "markdown",
   "id": "7b2713e0",
   "metadata": {},
   "source": [
    "### Resource directories"
   ]
  },
  {
   "cell_type": "code",
   "execution_count": 4,
   "id": "b53f99f2",
   "metadata": {},
   "outputs": [],
   "source": [
    "CHECKPOINTS_DIR = ROOT_DIR / \"checkpoints\" # Model checkpoints directory\n",
    "DATA_DIR = ROOT_DIR / \"data\"               # Datasets directory\n",
    "FIGURES_DIR = ROOT_DIR / \"reports/figures\" # Figures directory"
   ]
  }
 ],
 "metadata": {
  "kernelspec": {
   "display_name": ".venv",
   "language": "python",
   "name": "python3"
  },
  "language_info": {
   "codemirror_mode": {
    "name": "ipython",
    "version": 3
   },
   "file_extension": ".py",
   "mimetype": "text/x-python",
   "name": "python",
   "nbconvert_exporter": "python",
   "pygments_lexer": "ipython3",
   "version": "3.12.9"
  }
 },
 "nbformat": 4,
 "nbformat_minor": 5
}
